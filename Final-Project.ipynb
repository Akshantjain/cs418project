{
 "cells": [
  {
   "cell_type": "code",
   "execution_count": 1,
   "metadata": {},
   "outputs": [],
   "source": [
    "import pandas as pd\n",
    "import numpy as np\n",
    "import datetime\n",
    "import seaborn as sns\n",
    "\n",
    "import matplotlib.pyplot as plt\n",
    "import matplotlib.mlab as mlab\n",
    "import matplotlib\n",
    "plt.style.use('ggplot')\n",
    "from matplotlib.pyplot import figure\n",
    "\n",
    "%matplotlib inline\n",
    "matplotlib.rcParams['figure.figsize'] = (12,8)\n",
    "\n",
    "pd.options.mode.chained_assignment = None\n",
    "\n",
    "from collections import Counter"
   ]
  },
  {
   "cell_type": "code",
   "execution_count": 2,
   "metadata": {},
   "outputs": [
    {
     "name": "stdout",
     "output_type": "stream",
     "text": [
      "Shape of our data is:  (619040, 7)\n",
      "\n",
      "Data type is: \n"
     ]
    },
    {
     "data": {
      "text/html": [
       "<div>\n",
       "<style scoped>\n",
       "    .dataframe tbody tr th:only-of-type {\n",
       "        vertical-align: middle;\n",
       "    }\n",
       "\n",
       "    .dataframe tbody tr th {\n",
       "        vertical-align: top;\n",
       "    }\n",
       "\n",
       "    .dataframe thead th {\n",
       "        text-align: right;\n",
       "    }\n",
       "</style>\n",
       "<table border=\"1\" class=\"dataframe\">\n",
       "  <thead>\n",
       "    <tr style=\"text-align: right;\">\n",
       "      <th></th>\n",
       "      <th>Type</th>\n",
       "    </tr>\n",
       "  </thead>\n",
       "  <tbody>\n",
       "    <tr>\n",
       "      <th>date</th>\n",
       "      <td>object</td>\n",
       "    </tr>\n",
       "    <tr>\n",
       "      <th>open</th>\n",
       "      <td>float64</td>\n",
       "    </tr>\n",
       "    <tr>\n",
       "      <th>high</th>\n",
       "      <td>float64</td>\n",
       "    </tr>\n",
       "    <tr>\n",
       "      <th>low</th>\n",
       "      <td>float64</td>\n",
       "    </tr>\n",
       "    <tr>\n",
       "      <th>close</th>\n",
       "      <td>float64</td>\n",
       "    </tr>\n",
       "    <tr>\n",
       "      <th>volume</th>\n",
       "      <td>int64</td>\n",
       "    </tr>\n",
       "    <tr>\n",
       "      <th>Name</th>\n",
       "      <td>object</td>\n",
       "    </tr>\n",
       "  </tbody>\n",
       "</table>\n",
       "</div>"
      ],
      "text/plain": [
       "           Type\n",
       "date     object\n",
       "open    float64\n",
       "high    float64\n",
       "low     float64\n",
       "close   float64\n",
       "volume    int64\n",
       "Name     object"
      ]
     },
     "execution_count": 2,
     "metadata": {},
     "output_type": "execute_result"
    }
   ],
   "source": [
    "# read the data\n",
    "df = pd.read_csv('all_stocks_5yr.csv')\n",
    "\n",
    "# shape and data types of the data\n",
    "print(\"Shape of our data is: \", df.shape)\n",
    "print()\n",
    "\n",
    "# type of each data\n",
    "print(\"Data type is: \")\n",
    "\n",
    "dType = pd.DataFrame(df.dtypes, columns = ['Type']) \n",
    "\n",
    "dType"
   ]
  },
  {
   "cell_type": "code",
   "execution_count": null,
   "metadata": {},
   "outputs": [],
   "source": []
  },
  {
   "cell_type": "code",
   "execution_count": 3,
   "metadata": {},
   "outputs": [],
   "source": [
    "# 1. Clean the data"
   ]
  },
  {
   "cell_type": "code",
   "execution_count": 4,
   "metadata": {},
   "outputs": [],
   "source": [
    "# ** Missing data **"
   ]
  },
  {
   "cell_type": "code",
   "execution_count": 5,
   "metadata": {},
   "outputs": [
    {
     "name": "stdout",
     "output_type": "stream",
     "text": [
      "Number of missing data per column: \n"
     ]
    },
    {
     "data": {
      "text/plain": [
       "date       0\n",
       "open      11\n",
       "high       8\n",
       "low        8\n",
       "close      0\n",
       "volume     0\n",
       "Name       0\n",
       "dtype: int64"
      ]
     },
     "execution_count": 5,
     "metadata": {},
     "output_type": "execute_result"
    }
   ],
   "source": [
    "# Display Column with missing value \n",
    "print(\"Number of missing data per column: \")\n",
    "df.isnull().sum()"
   ]
  },
  {
   "cell_type": "code",
   "execution_count": 6,
   "metadata": {},
   "outputs": [
    {
     "data": {
      "text/plain": [
       "<AxesSubplot:>"
      ]
     },
     "execution_count": 6,
     "metadata": {},
     "output_type": "execute_result"
    },
    {
     "data": {
      "image/png": "[encoded data removed]",
      "text/plain": [
       "<Figure size 864x576 with 2 Axes>"
      ]
     },
     "metadata": {
      "needs_background": "light"
     },
     "output_type": "display_data"
    }
   ],
   "source": [
    "# Visualization: number of missing value is in red, black is not missing\n",
    "sns.heatmap(df[df.columns[0:7]].isnull(), cmap=sns.color_palette(['#000000', '#FF0000']))\n",
    "\n",
    "# Notice that open has 11 missing value and high and low all have the same 8 missing values. It's such a small \n",
    "# value that we can't see it in the visualization below"
   ]
  },
  {
   "cell_type": "code",
   "execution_count": 7,
   "metadata": {},
   "outputs": [],
   "source": [
    "# To handle with missing data, we decide to impute the missing data with the average value from the data \n",
    "# of the same feature that's not missing. There are 619040 different rows and for those 3 sections there are \n",
    "# only less than 12 missing values. It's such a small number that the data won't be affect at all even if we \n",
    "# impute it\n",
    "df['open'] = df['open'].fillna(df['open'].median())\n",
    "df['high'] = df['high'].fillna(df['high'].median())\n",
    "df['low'] = df['low'].fillna(df['low'].median())"
   ]
  },
  {
   "cell_type": "code",
   "execution_count": 8,
   "metadata": {},
   "outputs": [
    {
     "name": "stdout",
     "output_type": "stream",
     "text": [
      "Number of missing data per column after handling missing values: \n"
     ]
    },
    {
     "data": {
      "text/plain": [
       "date      0\n",
       "open      0\n",
       "high      0\n",
       "low       0\n",
       "close     0\n",
       "volume    0\n",
       "Name      0\n",
       "dtype: int64"
      ]
     },
     "execution_count": 8,
     "metadata": {},
     "output_type": "execute_result"
    }
   ],
   "source": [
    "# Display Column with missing value after handling missing values\n",
    "print(\"Number of missing data per column after handling missing values: \")\n",
    "df.isnull().sum()"
   ]
  },
  {
   "cell_type": "code",
   "execution_count": null,
   "metadata": {},
   "outputs": [],
   "source": []
  },
  {
   "cell_type": "code",
   "execution_count": 9,
   "metadata": {},
   "outputs": [],
   "source": [
    "# ** Outliers **"
   ]
  },
  {
   "cell_type": "code",
   "execution_count": 10,
   "metadata": {},
   "outputs": [],
   "source": [
    "# Observing from our data, we can see that there are 5 columns we need to check for outliers. They are: \n",
    "# open, high, low, close, and volume"
   ]
  },
  {
   "cell_type": "code",
   "execution_count": 11,
   "metadata": {},
   "outputs": [
    {
     "data": {
      "text/plain": [
       "<AxesSubplot:>"
      ]
     },
     "execution_count": 11,
     "metadata": {},
     "output_type": "execute_result"
    },
    {
     "data": {
      "image/png": "[encoded data removed]",
      "text/plain": [
       "<Figure size 864x576 with 1 Axes>"
      ]
     },
     "metadata": {
      "needs_background": "light"
     },
     "output_type": "display_data"
    }
   ],
   "source": [
    "# We'll start with open. There seems to be no outliers\n",
    "df.boxplot(column=['open'])"
   ]
  },
  {
   "cell_type": "code",
   "execution_count": 12,
   "metadata": {},
   "outputs": [
    {
     "data": {
      "text/plain": [
       "<AxesSubplot:>"
      ]
     },
     "execution_count": 12,
     "metadata": {},
     "output_type": "execute_result"
    },
    {
     "data": {
      "image/png": "[encoded data removed]",
      "text/plain": [
       "<Figure size 864x576 with 1 Axes>"
      ]
     },
     "metadata": {
      "needs_background": "light"
     },
     "output_type": "display_data"
    }
   ],
   "source": [
    "# Next is high. There seems to be no outliers\n",
    "df.boxplot(column=['high'])"
   ]
  },
  {
   "cell_type": "code",
   "execution_count": 13,
   "metadata": {},
   "outputs": [
    {
     "data": {
      "text/plain": [
       "<AxesSubplot:>"
      ]
     },
     "execution_count": 13,
     "metadata": {},
     "output_type": "execute_result"
    },
    {
     "data": {
      "image/png": "[encoded data removed]",
      "text/plain": [
       "<Figure size 864x576 with 1 Axes>"
      ]
     },
     "metadata": {
      "needs_background": "light"
     },
     "output_type": "display_data"
    }
   ],
   "source": [
    "# Next is high. There seems to be no outliers\n",
    "df.boxplot(column=['low'])"
   ]
  },
  {
   "cell_type": "code",
   "execution_count": 14,
   "metadata": {},
   "outputs": [
    {
     "data": {
      "text/plain": [
       "<AxesSubplot:>"
      ]
     },
     "execution_count": 14,
     "metadata": {},
     "output_type": "execute_result"
    },
    {
     "data": {
      "image/png": "[encoded data removed]",
      "text/plain": [
       "<Figure size 864x576 with 1 Axes>"
      ]
     },
     "metadata": {
      "needs_background": "light"
     },
     "output_type": "display_data"
    }
   ],
   "source": [
    "# Next is close. There seems to be no outliers\n",
    "df.boxplot(column=['close'])"
   ]
  },
  {
   "cell_type": "code",
   "execution_count": 15,
   "metadata": {},
   "outputs": [
    {
     "data": {
      "text/plain": [
       "<AxesSubplot:>"
      ]
     },
     "execution_count": 15,
     "metadata": {},
     "output_type": "execute_result"
    },
    {
     "data": {
      "image/png": "[encoded data removed]",
      "text/plain": [
       "<Figure size 864x576 with 1 Axes>"
      ]
     },
     "metadata": {
      "needs_background": "light"
     },
     "output_type": "display_data"
    }
   ],
   "source": [
    "# Next is volumn.\n",
    "df.boxplot(column=['volume'])"
   ]
  },
  {
   "cell_type": "code",
   "execution_count": 16,
   "metadata": {},
   "outputs": [
    {
     "data": {
      "text/plain": [
       "count    6.190400e+05\n",
       "mean     4.321823e+06\n",
       "std      8.693610e+06\n",
       "min      0.000000e+00\n",
       "25%      1.070320e+06\n",
       "50%      2.082094e+06\n",
       "75%      4.284509e+06\n",
       "max      6.182376e+08\n",
       "Name: volume, dtype: float64"
      ]
     },
     "execution_count": 16,
     "metadata": {},
     "output_type": "execute_result"
    }
   ],
   "source": [
    "# Seems like we have an outlier. We can look at the descriptive statistic to check what that outlier is\n",
    "df['volume'].describe()"
   ]
  },
  {
   "cell_type": "code",
   "execution_count": 17,
   "metadata": {},
   "outputs": [],
   "source": [
    "# As you can see, the maximum of 6.182376e+08 is our outlier because 75% quartile is only 4.284509e+06\n",
    "# However, we decide to keep with outlier because it's an important piece to why the volume of the stock\n",
    "# spike in a certain day, which can indicate good news and bad news about the individual stock"
   ]
  },
  {
   "cell_type": "code",
   "execution_count": null,
   "metadata": {},
   "outputs": [],
   "source": []
  },
  {
   "cell_type": "code",
   "execution_count": 18,
   "metadata": {},
   "outputs": [],
   "source": [
    "# ** Noisy data **\n",
    "# First, we will check for repetitive data. I want to find columns that have more than 90% row value being the same\n",
    "for col in df.columns:\n",
    "    if (df[col].value_counts(dropna=False)/len(df.index)).iloc[0] > 0.9:\n",
    "        print('{0}: {1:.5f}%'.format(col, (df[col].value_counts(dropna=False)/len(df.index)).iloc[0]*100), \"of rows being the same\")\n",
    "        print()\n",
    "        \n",
    "# Nothing got printed, which means more than 90% of the data are different"
   ]
  },
  {
   "cell_type": "code",
   "execution_count": 19,
   "metadata": {},
   "outputs": [
    {
     "name": "stdout",
     "output_type": "stream",
     "text": [
      "Shape of our data is:  (619040, 5)\n",
      "\n"
     ]
    }
   ],
   "source": [
    "# Second, we will check for irrelevant value. we have skimmed through all the features and see that \n",
    "# high and low don't really provide any valuable information for our project. They are, in our opinion, irrelevant. \n",
    "# For this project, we only interest in the open and close value of a stock to explain why it goes up or down at \n",
    "# the end of the day\n",
    "df = df.drop(['high', 'low'], axis=1)\n",
    "\n",
    "# Now we only have 5 columns\n",
    "print(\"Shape of our data is: \", df.shape)\n",
    "print()"
   ]
  },
  {
   "cell_type": "code",
   "execution_count": 20,
   "metadata": {},
   "outputs": [
    {
     "name": "stdout",
     "output_type": "stream",
     "text": [
      "There's no duplicated row\n"
     ]
    }
   ],
   "source": [
    "# Third, we will check for duplicated data by checking if there's any duplicate date and name together because \n",
    "# date and name together shoule be unique as it's describing a stock at a certain date\n",
    "if df[df.duplicated(subset=['Name','date'])].empty:\n",
    "    print(\"There's no duplicated row\")\n",
    "else:\n",
    "    print(\"There're duplicated rows\")\n",
    "    \n",
    "# Seems like we have no duplicated row"
   ]
  },
  {
   "cell_type": "code",
   "execution_count": null,
   "metadata": {},
   "outputs": [],
   "source": []
  },
  {
   "cell_type": "code",
   "execution_count": 21,
   "metadata": {},
   "outputs": [],
   "source": [
    "# ** Inconsistent Data **"
   ]
  },
  {
   "cell_type": "code",
   "execution_count": 22,
   "metadata": {},
   "outputs": [],
   "source": [
    "# First, inconsistent usage of upper and lower cases in categorical values is a common mistake. So, I'm going to\n",
    "# put all letters to upper cases\n",
    "df['Name'] = df['Name'].str.upper()"
   ]
  },
  {
   "cell_type": "code",
   "execution_count": 23,
   "metadata": {},
   "outputs": [],
   "source": [
    "# Second, column date doesn't have the correct data format so I'm going to convert their type frome \n",
    "# object to datetime for easier analysis later"
   ]
  },
  {
   "cell_type": "code",
   "execution_count": 32,
   "metadata": {
    "scrolled": false
   },
   "outputs": [
    {
     "data": {
      "text/plain": [
       "<AxesSubplot:>"
      ]
     },
     "execution_count": 32,
     "metadata": {},
     "output_type": "execute_result"
    },
    {
     "data": {
      "image/png": "[encoded data removed]",
      "text/plain": [
       "<Figure size 864x576 with 2 Axes>"
      ]
     },
     "metadata": {
      "needs_background": "light"
     },
     "output_type": "display_data"
    }
   ],
   "source": [
    "from sklearn.linear_model import LinearRegression\n",
    "from sklearn.model_selection import train_test_split\n",
    "import matplotlib.pyplot as plt\n",
    "import numpy as np\n",
    "import seaborn as sb\n",
    "\n",
    "# we check for correlation between the features using the Pearson Correlation Coefficient\n",
    "corr = df.corr(method='pearson')\n",
    "\n",
    "# print the correlation table\n",
    "corr\n",
    "\n",
    "# we print the heatmap of the correaltion table\n",
    "sb.heatmap(corr,xticklabels=corr.columns, yticklabels=corr.columns,\n",
    "cmap='RdBu_r', annot=True, linewidth=0.5)\n",
    "\n",
    "# The dark maroon cells represent highly correlated features of our dataset"
   ]
  },
  {
   "cell_type": "code",
   "execution_count": 151,
   "metadata": {},
   "outputs": [
    {
     "data": {
      "image/png": "[encoded data removed]",
      "text/plain": [
       "<Figure size 1152x576 with 1 Axes>"
      ]
     },
     "metadata": {
      "needs_background": "light"
     },
     "output_type": "display_data"
    }
   ],
   "source": [
    "# We design a function to visualize the independent and dependent variables and plot them for the stock\n",
    "\n",
    "def OpenClosePlot(stock, name):\n",
    "    stock_df=stock[['date','open','close']]\n",
    "    \n",
    "    #Plot Open vs Close\n",
    "    tickvalues = range(0,20)\n",
    "    stock_df[['open','close']].tail(20).plot(kind='bar',figsize=(16,8))\n",
    "    plt.grid(which='major', linestyle='-', linewidth='0.5', color='green')\n",
    "    plt.grid(which='minor', linestyle=':', linewidth='0.5', color='black')\n",
    "    plt.xticks(tickvalues, stock.date[len(stock)-20:])\n",
    "    plt.show()\n",
    "    \n",
    "Stock = \"NFLX\"\n",
    "stock_df = df.loc[df['Name'] == Stock]\n",
    "OpenClosePlot(stock_df, Stock)"
   ]
  },
  {
   "cell_type": "code",
   "execution_count": 152,
   "metadata": {},
   "outputs": [
    {
     "name": "stdout",
     "output_type": "stream",
     "text": [
      "Accuracy:  99.82671065594631\n"
     ]
    },
    {
     "data": {
      "image/png": "[encoded data removed]",
      "text/plain": [
       "<Figure size 1152x576 with 1 Axes>"
      ]
     },
     "metadata": {
      "needs_background": "light"
     },
     "output_type": "display_data"
    }
   ],
   "source": [
    "# Model training and testing \n",
    "stock_df['date'] = pd.to_datetime(stock_df['date'], format='%Y-%m-%d')\n",
    "\n",
    "stock_df['year']=stock_df['date'].dt.year\n",
    "stock_df['month']=stock_df['date'].dt.month\n",
    "stock_df['day']=stock_df['date'].dt.day\n",
    "\n",
    "stock_df = stock_df[['day', 'month', 'year', 'open', 'close']]\n",
    "stock_df.head(10)\n",
    "\n",
    "X = stock_df.iloc[:,stock_df.columns !='close']\n",
    "Y= stock_df.iloc[:, 4]"
   ]
  },
  {
   "cell_type": "code",
   "execution_count": null,
   "metadata": {},
   "outputs": [],
   "source": [
    "# We train the model after testing and splitting the data \n",
    "from sklearn.model_selection import train_test_split\n",
    "from sklearn import model_selection\n",
    "from sklearn.model_selection import KFold\n",
    "\n",
    "x_train,x_test,y_train,y_test= train_test_split(X,Y,test_size=.25)\n",
    "\n",
    "# Use linear regression to fit the training data\n",
    "lr_model=LinearRegression()\n",
    "lr_model.fit(x_train,y_train)\n",
    "\n",
    "# predict the values \n",
    "y_pred=lr_model.predict(x_test)\n",
    "kfold = model_selection.KFold(n_splits=20)\n",
    "results_kfold = model_selection.cross_val_score(lr_model, x_test, y_test.astype('int'), cv=kfold)\n",
    "print(\"Accuracy: \", results_kfold.mean()*100)\n",
    "\n",
    "plot_df=pd.DataFrame({'Actual':y_test,'Pred':y_pred})\n",
    "plot_df.head(20).plot(kind='bar',figsize=(16,8))\n",
    "plt.grid(which='major', linestyle='-', linewidth='0.5', color='green')\n",
    "plt.grid(which='minor', linestyle=':', linewidth='0.5', color='black')\n",
    "plt.show()"
   ]
  },
  {
   "cell_type": "code",
   "execution_count": null,
   "metadata": {},
   "outputs": [],
   "source": []
  }
 ],
 "metadata": {
  "kernelspec": {
   "display_name": "Python 3",
   "language": "python",
   "name": "python3"
  },
  "language_info": {
   "codemirror_mode": {
    "name": "ipython",
    "version": 3
   },
   "file_extension": ".py",
   "mimetype": "text/x-python",
   "name": "python",
   "nbconvert_exporter": "python",
   "pygments_lexer": "ipython3",
   "version": "3.8.5"
  }
 },
 "nbformat": 4,
 "nbformat_minor": 4
}
